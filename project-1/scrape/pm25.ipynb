{
 "cells": [
  {
   "cell_type": "code",
   "execution_count": 1,
   "metadata": {},
   "outputs": [],
   "source": [
    "import pandas as pd"
   ]
  },
  {
   "cell_type": "code",
   "execution_count": 2,
   "metadata": {},
   "outputs": [],
   "source": [
    "url = 'https://sta.ci.taiwan.gov.tw/STA_AirQuality_v2/v1.0/Datastreams?$expand=Thing,Observations($orderby=phenomenonTime%20desc;$top=1)&$filter=name%20eq%20%27PM2.5%27%20and%20Thing/properties/authority%20eq%20%27%E8%A1%8C%E6%94%BF%E9%99%A2%E7%92%B0%E5%A2%83%E4%BF%9D%E8%AD%B7%E7%BD%B2%27%20and%20substringof(%27%E7%A9%BA%E6%B0%A3%E5%93%81%E8%B3%AA%E6%B8%AC%E7%AB%99%27,Thing/name)&$count=true'\n"
   ]
  },
  {
   "cell_type": "code",
   "execution_count": 3,
   "metadata": {},
   "outputs": [
    {
     "data": {
      "text/plain": [
       "0     {'description': '細懸浮微粒 PM2.5', '@iot.id': 11, ...\n",
       "1     {'description': '細懸浮微粒 PM2.5', '@iot.id': 29, ...\n",
       "2     {'description': '細懸浮微粒 PM2.5', '@iot.id': 47, ...\n",
       "3     {'description': '細懸浮微粒 PM2.5', '@iot.id': 65, ...\n",
       "4     {'description': '細懸浮微粒 PM2.5', '@iot.id': 83, ...\n",
       "                            ...                        \n",
       "72    {'description': '細懸浮微粒 PM2.5', '@iot.id': 1307...\n",
       "73    {'description': '細懸浮微粒 PM2.5', '@iot.id': 1325...\n",
       "74    {'description': '細懸浮微粒 PM2.5', '@iot.id': 1343...\n",
       "75    {'description': '細懸浮微粒 PM2.5', '@iot.id': 1361...\n",
       "76    {'description': '細懸浮微粒 PM2.5', '@iot.id': 1379...\n",
       "Name: value, Length: 77, dtype: object"
      ]
     },
     "execution_count": 3,
     "metadata": {},
     "output_type": "execute_result"
    }
   ],
   "source": [
    "datas=pd.read_json(url)['value']\n",
    "datas"
   ]
  },
  {
   "cell_type": "markdown",
   "metadata": {},
   "source": [
    "## 取得城市和站點"
   ]
  },
  {
   "cell_type": "code",
   "execution_count": 4,
   "metadata": {},
   "outputs": [
    {
     "data": {
      "text/plain": [
       "('基隆市', '基隆')"
      ]
     },
     "execution_count": 4,
     "metadata": {},
     "output_type": "execute_result"
    }
   ],
   "source": [
    "city,stationName=datas[0]['Thing']['properties']['city'], datas[0]['Thing']['properties']['stationName']\n",
    "city,stationName"
   ]
  },
  {
   "cell_type": "markdown",
   "metadata": {},
   "source": [
    "## 取得pm2.5和更新時間"
   ]
  },
  {
   "cell_type": "code",
   "execution_count": 5,
   "metadata": {},
   "outputs": [
    {
     "data": {
      "text/plain": [
       "(10, '2022-06-22T03:00:00.000Z')"
      ]
     },
     "execution_count": 5,
     "metadata": {},
     "output_type": "execute_result"
    }
   ],
   "source": [
    "result,resultTime=datas[0]['Observations'][0]['result'], datas[0]['Observations'][0]['resultTime']\n",
    "result,resultTime"
   ]
  },
  {
   "cell_type": "markdown",
   "metadata": {},
   "source": [
    "## 輸出所有站點資料"
   ]
  },
  {
   "cell_type": "code",
   "execution_count": 6,
   "metadata": {},
   "outputs": [
    {
     "data": {
      "text/plain": [
       "[['基隆市', '基隆', 10, Timestamp('2022-06-22 03:00:00+0000', tz='UTC')],\n",
       " ['新北市', '汐止', 11, Timestamp('2022-06-22 03:00:00+0000', tz='UTC')],\n",
       " ['新北市', '萬里', 14, Timestamp('2022-06-22 03:00:00+0000', tz='UTC')],\n",
       " ['新北市', '新店', 13, Timestamp('2022-06-22 03:00:00+0000', tz='UTC')],\n",
       " ['新北市', '土城', 4, Timestamp('2022-06-22 03:00:00+0000', tz='UTC')],\n",
       " ['新北市', '板橋', 7, Timestamp('2022-06-22 03:00:00+0000', tz='UTC')],\n",
       " ['新北市', '新莊', 10, Timestamp('2022-06-22 03:00:00+0000', tz='UTC')],\n",
       " ['新北市', '菜寮', 11, Timestamp('2022-06-22 03:00:00+0000', tz='UTC')],\n",
       " ['新北市', '林口', 8, Timestamp('2022-06-22 03:00:00+0000', tz='UTC')],\n",
       " ['新北市', '淡水', 6, Timestamp('2022-06-22 03:00:00+0000', tz='UTC')],\n",
       " ['臺北市', '士林', 12, Timestamp('2022-06-22 03:00:00+0000', tz='UTC')],\n",
       " ['臺北市', '中山', 9, Timestamp('2022-06-22 03:00:00+0000', tz='UTC')],\n",
       " ['臺北市', '萬華', 11, Timestamp('2022-06-22 02:00:00+0000', tz='UTC')],\n",
       " ['臺北市', '古亭', 9, Timestamp('2022-06-22 03:00:00+0000', tz='UTC')],\n",
       " ['臺北市', '松山', 12, Timestamp('2022-06-22 03:00:00+0000', tz='UTC')],\n",
       " ['臺北市', '大同', 15, Timestamp('2022-06-22 03:00:00+0000', tz='UTC')],\n",
       " ['桃園市', '桃園', 9, Timestamp('2022-06-22 03:00:00+0000', tz='UTC')],\n",
       " ['桃園市', '大園', 4, Timestamp('2022-06-22 02:00:00+0000', tz='UTC')],\n",
       " ['桃園市', '觀音', 7, Timestamp('2022-06-22 02:00:00+0000', tz='UTC')],\n",
       " ['桃園市', '平鎮', 5, Timestamp('2022-06-22 03:00:00+0000', tz='UTC')],\n",
       " ['桃園市', '龍潭', 3, Timestamp('2022-06-22 03:00:00+0000', tz='UTC')],\n",
       " ['新竹縣', '湖口', 1, Timestamp('2022-06-22 03:00:00+0000', tz='UTC')],\n",
       " ['新竹縣', '竹東', 6, Timestamp('2022-06-22 03:00:00+0000', tz='UTC')],\n",
       " ['新竹市', '新竹', 2, Timestamp('2022-06-22 03:00:00+0000', tz='UTC')],\n",
       " ['苗栗縣', '頭份', 1, Timestamp('2022-06-22 03:00:00+0000', tz='UTC')],\n",
       " ['苗栗縣', '苗栗', 7, Timestamp('2022-06-22 02:00:00+0000', tz='UTC')],\n",
       " ['苗栗縣', '三義', 5, Timestamp('2022-06-22 03:00:00+0000', tz='UTC')],\n",
       " ['臺中市', '豐原', 10, Timestamp('2022-06-22 03:00:00+0000', tz='UTC')],\n",
       " ['臺中市', '沙鹿', 7, Timestamp('2022-06-22 03:00:00+0000', tz='UTC')],\n",
       " ['臺中市', '大里', 12, Timestamp('2022-06-22 03:00:00+0000', tz='UTC')],\n",
       " ['臺中市', '忠明', 14, Timestamp('2022-06-22 03:00:00+0000', tz='UTC')],\n",
       " ['臺中市', '西屯', 15, Timestamp('2022-06-22 03:00:00+0000', tz='UTC')],\n",
       " ['彰化縣', '彰化', 6, Timestamp('2022-06-22 03:00:00+0000', tz='UTC')],\n",
       " ['彰化縣', '線西', 8, Timestamp('2022-06-22 03:00:00+0000', tz='UTC')],\n",
       " ['彰化縣', '二林', 12, Timestamp('2022-06-22 03:00:00+0000', tz='UTC')],\n",
       " ['南投縣', '南投', 8, Timestamp('2022-06-22 03:00:00+0000', tz='UTC')],\n",
       " ['雲林縣', '斗六', 10, Timestamp('2022-06-22 03:00:00+0000', tz='UTC')],\n",
       " ['雲林縣', '崙背', 4, Timestamp('2022-06-22 03:00:00+0000', tz='UTC')],\n",
       " ['嘉義縣', '新港', 9, Timestamp('2022-06-22 03:00:00+0000', tz='UTC')],\n",
       " ['嘉義縣', '朴子', 10, Timestamp('2022-06-22 03:00:00+0000', tz='UTC')],\n",
       " ['雲林縣', '臺西', 6, Timestamp('2022-06-22 03:00:00+0000', tz='UTC')],\n",
       " ['嘉義市', '嘉義', 14, Timestamp('2022-06-22 03:00:00+0000', tz='UTC')],\n",
       " ['臺南市', '新營', 9, Timestamp('2022-06-22 03:00:00+0000', tz='UTC')],\n",
       " ['臺南市', '善化', 15, Timestamp('2022-06-22 03:00:00+0000', tz='UTC')],\n",
       " ['臺南市', '安南', 6, Timestamp('2022-06-22 03:00:00+0000', tz='UTC')],\n",
       " ['臺南市', '臺南', 8, Timestamp('2022-06-22 03:00:00+0000', tz='UTC')],\n",
       " ['高雄市', '美濃', 12, Timestamp('2022-06-22 03:00:00+0000', tz='UTC')],\n",
       " ['高雄市', '橋頭', 11, Timestamp('2022-06-22 03:00:00+0000', tz='UTC')],\n",
       " ['高雄市', '仁武', 12, Timestamp('2022-06-22 03:00:00+0000', tz='UTC')],\n",
       " ['高雄市', '鳳山', 12, Timestamp('2022-06-22 03:00:00+0000', tz='UTC')],\n",
       " ['高雄市', '大寮', 10, Timestamp('2022-06-22 03:00:00+0000', tz='UTC')],\n",
       " ['高雄市', '林園', 9, Timestamp('2022-06-22 03:00:00+0000', tz='UTC')],\n",
       " ['高雄市', '楠梓', 10, Timestamp('2022-06-22 02:00:00+0000', tz='UTC')],\n",
       " ['高雄市', '左營', 12, Timestamp('2022-06-22 03:00:00+0000', tz='UTC')],\n",
       " ['高雄市', '前金', 12, Timestamp('2022-06-22 03:00:00+0000', tz='UTC')],\n",
       " ['高雄市', '前鎮', 16, Timestamp('2022-06-22 03:00:00+0000', tz='UTC')],\n",
       " ['高雄市', '小港', 10, Timestamp('2022-06-22 03:00:00+0000', tz='UTC')],\n",
       " ['屏東縣', '屏東', 4, Timestamp('2022-06-22 03:00:00+0000', tz='UTC')],\n",
       " ['屏東縣', '潮州', 11, Timestamp('2022-06-22 03:00:00+0000', tz='UTC')],\n",
       " ['屏東縣', '恆春', 1, Timestamp('2022-06-22 03:00:00+0000', tz='UTC')],\n",
       " ['臺東縣', '臺東', 11, Timestamp('2022-06-22 03:00:00+0000', tz='UTC')],\n",
       " ['花蓮縣', '花蓮', 6, Timestamp('2022-06-22 03:00:00+0000', tz='UTC')],\n",
       " ['臺北市', '陽明', 12, Timestamp('2022-06-22 03:00:00+0000', tz='UTC')],\n",
       " ['宜蘭縣', '宜蘭', 12, Timestamp('2022-06-22 03:00:00+0000', tz='UTC')],\n",
       " ['宜蘭縣', '冬山', 8, Timestamp('2022-06-22 03:00:00+0000', tz='UTC')],\n",
       " ['新北市', '三重', 7, Timestamp('2022-06-22 03:00:00+0000', tz='UTC')],\n",
       " ['桃園市', '中壢', 6, Timestamp('2022-06-22 03:00:00+0000', tz='UTC')],\n",
       " ['南投縣', '竹山', 11, Timestamp('2022-06-22 03:00:00+0000', tz='UTC')],\n",
       " ['新北市', '永和', 13, Timestamp('2022-06-22 03:00:00+0000', tz='UTC')],\n",
       " ['高雄市', '復興', 27, Timestamp('2022-06-22 03:00:00+0000', tz='UTC')],\n",
       " ['南投縣', '埔里', 2, Timestamp('2022-06-22 02:00:00+0000', tz='UTC')],\n",
       " ['新北市', '富貴角', 7, Timestamp('2022-06-22 03:00:00+0000', tz='UTC')],\n",
       " ['臺東縣', '關山', 8, Timestamp('2022-06-22 03:00:00+0000', tz='UTC')],\n",
       " ['金門縣', '金門', 5, Timestamp('2022-06-22 03:00:00+0000', tz='UTC')],\n",
       " ['連江縣', '馬祖', 9, Timestamp('2022-06-22 03:00:00+0000', tz='UTC')],\n",
       " ['澎湖縣', '馬公', 3, Timestamp('2022-06-22 03:00:00+0000', tz='UTC')],\n",
       " ['雲林縣', '麥寮', 5, Timestamp('2022-06-22 03:00:00+0000', tz='UTC')]]"
      ]
     },
     "execution_count": 6,
     "metadata": {},
     "output_type": "execute_result"
    }
   ],
   "source": [
    "values=[]\n",
    "for data in datas:\n",
    "    # print('縣市','站點','pm2.5','時間')\n",
    "    city, stationName=data['Thing']['properties']['city'],data['Thing']['properties']['stationName']\n",
    "\n",
    "    result, resultTime = data['Observations'][0]['result'], data['Observations'][0]['resultTime']\n",
    "    resultTime=pd.to_datetime(resultTime)\n",
    "\n",
    "    values.append([city,stationName,result,resultTime])\n",
    "values"
   ]
  },
  {
   "cell_type": "code",
   "execution_count": 7,
   "metadata": {},
   "outputs": [
    {
     "data": {
      "text/html": [
       "<div>\n",
       "<style scoped>\n",
       "    .dataframe tbody tr th:only-of-type {\n",
       "        vertical-align: middle;\n",
       "    }\n",
       "\n",
       "    .dataframe tbody tr th {\n",
       "        vertical-align: top;\n",
       "    }\n",
       "\n",
       "    .dataframe thead th {\n",
       "        text-align: right;\n",
       "    }\n",
       "</style>\n",
       "<table border=\"1\" class=\"dataframe\">\n",
       "  <thead>\n",
       "    <tr style=\"text-align: right;\">\n",
       "      <th></th>\n",
       "      <th>city</th>\n",
       "      <th>stationName</th>\n",
       "      <th>result</th>\n",
       "      <th>resultTime</th>\n",
       "    </tr>\n",
       "  </thead>\n",
       "  <tbody>\n",
       "    <tr>\n",
       "      <th>0</th>\n",
       "      <td>基隆市</td>\n",
       "      <td>基隆</td>\n",
       "      <td>10</td>\n",
       "      <td>2022-06-22 03:00:00+00:00</td>\n",
       "    </tr>\n",
       "    <tr>\n",
       "      <th>1</th>\n",
       "      <td>新北市</td>\n",
       "      <td>汐止</td>\n",
       "      <td>11</td>\n",
       "      <td>2022-06-22 03:00:00+00:00</td>\n",
       "    </tr>\n",
       "    <tr>\n",
       "      <th>2</th>\n",
       "      <td>新北市</td>\n",
       "      <td>萬里</td>\n",
       "      <td>14</td>\n",
       "      <td>2022-06-22 03:00:00+00:00</td>\n",
       "    </tr>\n",
       "    <tr>\n",
       "      <th>3</th>\n",
       "      <td>新北市</td>\n",
       "      <td>新店</td>\n",
       "      <td>13</td>\n",
       "      <td>2022-06-22 03:00:00+00:00</td>\n",
       "    </tr>\n",
       "    <tr>\n",
       "      <th>4</th>\n",
       "      <td>新北市</td>\n",
       "      <td>土城</td>\n",
       "      <td>4</td>\n",
       "      <td>2022-06-22 03:00:00+00:00</td>\n",
       "    </tr>\n",
       "    <tr>\n",
       "      <th>...</th>\n",
       "      <td>...</td>\n",
       "      <td>...</td>\n",
       "      <td>...</td>\n",
       "      <td>...</td>\n",
       "    </tr>\n",
       "    <tr>\n",
       "      <th>72</th>\n",
       "      <td>臺東縣</td>\n",
       "      <td>關山</td>\n",
       "      <td>8</td>\n",
       "      <td>2022-06-22 03:00:00+00:00</td>\n",
       "    </tr>\n",
       "    <tr>\n",
       "      <th>73</th>\n",
       "      <td>金門縣</td>\n",
       "      <td>金門</td>\n",
       "      <td>5</td>\n",
       "      <td>2022-06-22 03:00:00+00:00</td>\n",
       "    </tr>\n",
       "    <tr>\n",
       "      <th>74</th>\n",
       "      <td>連江縣</td>\n",
       "      <td>馬祖</td>\n",
       "      <td>9</td>\n",
       "      <td>2022-06-22 03:00:00+00:00</td>\n",
       "    </tr>\n",
       "    <tr>\n",
       "      <th>75</th>\n",
       "      <td>澎湖縣</td>\n",
       "      <td>馬公</td>\n",
       "      <td>3</td>\n",
       "      <td>2022-06-22 03:00:00+00:00</td>\n",
       "    </tr>\n",
       "    <tr>\n",
       "      <th>76</th>\n",
       "      <td>雲林縣</td>\n",
       "      <td>麥寮</td>\n",
       "      <td>5</td>\n",
       "      <td>2022-06-22 03:00:00+00:00</td>\n",
       "    </tr>\n",
       "  </tbody>\n",
       "</table>\n",
       "<p>77 rows × 4 columns</p>\n",
       "</div>"
      ],
      "text/plain": [
       "   city stationName  result                resultTime\n",
       "0   基隆市          基隆      10 2022-06-22 03:00:00+00:00\n",
       "1   新北市          汐止      11 2022-06-22 03:00:00+00:00\n",
       "2   新北市          萬里      14 2022-06-22 03:00:00+00:00\n",
       "3   新北市          新店      13 2022-06-22 03:00:00+00:00\n",
       "4   新北市          土城       4 2022-06-22 03:00:00+00:00\n",
       "..  ...         ...     ...                       ...\n",
       "72  臺東縣          關山       8 2022-06-22 03:00:00+00:00\n",
       "73  金門縣          金門       5 2022-06-22 03:00:00+00:00\n",
       "74  連江縣          馬祖       9 2022-06-22 03:00:00+00:00\n",
       "75  澎湖縣          馬公       3 2022-06-22 03:00:00+00:00\n",
       "76  雲林縣          麥寮       5 2022-06-22 03:00:00+00:00\n",
       "\n",
       "[77 rows x 4 columns]"
      ]
     },
     "execution_count": 7,
     "metadata": {},
     "output_type": "execute_result"
    }
   ],
   "source": [
    "df = pd.DataFrame(values, columns=['city', 'stationName', 'result', 'resultTime'])\n",
    "df"
   ]
  },
  {
   "cell_type": "code",
   "execution_count": 8,
   "metadata": {},
   "outputs": [
    {
     "data": {
      "text/html": [
       "<div>\n",
       "<style scoped>\n",
       "    .dataframe tbody tr th:only-of-type {\n",
       "        vertical-align: middle;\n",
       "    }\n",
       "\n",
       "    .dataframe tbody tr th {\n",
       "        vertical-align: top;\n",
       "    }\n",
       "\n",
       "    .dataframe thead th {\n",
       "        text-align: right;\n",
       "    }\n",
       "</style>\n",
       "<table border=\"1\" class=\"dataframe\">\n",
       "  <thead>\n",
       "    <tr style=\"text-align: right;\">\n",
       "      <th></th>\n",
       "      <th>city</th>\n",
       "      <th>stationName</th>\n",
       "      <th>result</th>\n",
       "      <th>resultTime</th>\n",
       "    </tr>\n",
       "  </thead>\n",
       "  <tbody>\n",
       "    <tr>\n",
       "      <th>69</th>\n",
       "      <td>高雄市</td>\n",
       "      <td>復興</td>\n",
       "      <td>27</td>\n",
       "      <td>2022-06-22 03:00:00+00:00</td>\n",
       "    </tr>\n",
       "    <tr>\n",
       "      <th>55</th>\n",
       "      <td>高雄市</td>\n",
       "      <td>前鎮</td>\n",
       "      <td>16</td>\n",
       "      <td>2022-06-22 03:00:00+00:00</td>\n",
       "    </tr>\n",
       "    <tr>\n",
       "      <th>43</th>\n",
       "      <td>臺南市</td>\n",
       "      <td>善化</td>\n",
       "      <td>15</td>\n",
       "      <td>2022-06-22 03:00:00+00:00</td>\n",
       "    </tr>\n",
       "    <tr>\n",
       "      <th>31</th>\n",
       "      <td>臺中市</td>\n",
       "      <td>西屯</td>\n",
       "      <td>15</td>\n",
       "      <td>2022-06-22 03:00:00+00:00</td>\n",
       "    </tr>\n",
       "    <tr>\n",
       "      <th>15</th>\n",
       "      <td>臺北市</td>\n",
       "      <td>大同</td>\n",
       "      <td>15</td>\n",
       "      <td>2022-06-22 03:00:00+00:00</td>\n",
       "    </tr>\n",
       "    <tr>\n",
       "      <th>...</th>\n",
       "      <td>...</td>\n",
       "      <td>...</td>\n",
       "      <td>...</td>\n",
       "      <td>...</td>\n",
       "    </tr>\n",
       "    <tr>\n",
       "      <th>70</th>\n",
       "      <td>南投縣</td>\n",
       "      <td>埔里</td>\n",
       "      <td>2</td>\n",
       "      <td>2022-06-22 02:00:00+00:00</td>\n",
       "    </tr>\n",
       "    <tr>\n",
       "      <th>23</th>\n",
       "      <td>新竹市</td>\n",
       "      <td>新竹</td>\n",
       "      <td>2</td>\n",
       "      <td>2022-06-22 03:00:00+00:00</td>\n",
       "    </tr>\n",
       "    <tr>\n",
       "      <th>59</th>\n",
       "      <td>屏東縣</td>\n",
       "      <td>恆春</td>\n",
       "      <td>1</td>\n",
       "      <td>2022-06-22 03:00:00+00:00</td>\n",
       "    </tr>\n",
       "    <tr>\n",
       "      <th>21</th>\n",
       "      <td>新竹縣</td>\n",
       "      <td>湖口</td>\n",
       "      <td>1</td>\n",
       "      <td>2022-06-22 03:00:00+00:00</td>\n",
       "    </tr>\n",
       "    <tr>\n",
       "      <th>24</th>\n",
       "      <td>苗栗縣</td>\n",
       "      <td>頭份</td>\n",
       "      <td>1</td>\n",
       "      <td>2022-06-22 03:00:00+00:00</td>\n",
       "    </tr>\n",
       "  </tbody>\n",
       "</table>\n",
       "<p>77 rows × 4 columns</p>\n",
       "</div>"
      ],
      "text/plain": [
       "   city stationName  result                resultTime\n",
       "69  高雄市          復興      27 2022-06-22 03:00:00+00:00\n",
       "55  高雄市          前鎮      16 2022-06-22 03:00:00+00:00\n",
       "43  臺南市          善化      15 2022-06-22 03:00:00+00:00\n",
       "31  臺中市          西屯      15 2022-06-22 03:00:00+00:00\n",
       "15  臺北市          大同      15 2022-06-22 03:00:00+00:00\n",
       "..  ...         ...     ...                       ...\n",
       "70  南投縣          埔里       2 2022-06-22 02:00:00+00:00\n",
       "23  新竹市          新竹       2 2022-06-22 03:00:00+00:00\n",
       "59  屏東縣          恆春       1 2022-06-22 03:00:00+00:00\n",
       "21  新竹縣          湖口       1 2022-06-22 03:00:00+00:00\n",
       "24  苗栗縣          頭份       1 2022-06-22 03:00:00+00:00\n",
       "\n",
       "[77 rows x 4 columns]"
      ]
     },
     "execution_count": 8,
     "metadata": {},
     "output_type": "execute_result"
    }
   ],
   "source": [
    "df.sort_values(by='result',ascending=False)"
   ]
  },
  {
   "cell_type": "code",
   "execution_count": 9,
   "metadata": {},
   "outputs": [
    {
     "data": {
      "text/plain": [
       "0    2022-06-22 03:00:00+00:00\n",
       "1    2022-06-22 03:00:00+00:00\n",
       "2    2022-06-22 03:00:00+00:00\n",
       "3    2022-06-22 03:00:00+00:00\n",
       "4    2022-06-22 03:00:00+00:00\n",
       "                ...           \n",
       "72   2022-06-22 03:00:00+00:00\n",
       "73   2022-06-22 03:00:00+00:00\n",
       "74   2022-06-22 03:00:00+00:00\n",
       "75   2022-06-22 03:00:00+00:00\n",
       "76   2022-06-22 03:00:00+00:00\n",
       "Name: resultTime, Length: 77, dtype: datetime64[ns, UTC]"
      ]
     },
     "execution_count": 9,
     "metadata": {},
     "output_type": "execute_result"
    }
   ],
   "source": [
    "df['resultTime'].apply(pd.to_datetime)"
   ]
  },
  {
   "cell_type": "markdown",
   "metadata": {},
   "source": []
  }
 ],
 "metadata": {
  "interpreter": {
   "hash": "e42634819b8c191a5d07eaf23810ff32516dd8d3875f28ec3e488928fbd3c187"
  },
  "kernelspec": {
   "display_name": "Python 3.8.8 ('base')",
   "language": "python",
   "name": "python3"
  },
  "language_info": {
   "codemirror_mode": {
    "name": "ipython",
    "version": 3
   },
   "file_extension": ".py",
   "mimetype": "text/x-python",
   "name": "python",
   "nbconvert_exporter": "python",
   "pygments_lexer": "ipython3",
   "version": "3.8.8"
  },
  "orig_nbformat": 4
 },
 "nbformat": 4,
 "nbformat_minor": 2
}

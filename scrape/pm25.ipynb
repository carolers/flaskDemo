{
 "cells": [
  {
   "cell_type": "code",
   "execution_count": 1,
   "metadata": {},
   "outputs": [],
   "source": [
    "import pandas as pd"
   ]
  },
  {
   "cell_type": "code",
   "execution_count": 2,
   "metadata": {},
   "outputs": [],
   "source": [
    "url = 'https://sta.ci.taiwan.gov.tw/STA_AirQuality_v2/v1.0/Datastreams?$expand=Thing,Observations($orderby=phenomenonTime%20desc;$top=1)&$filter=name%20eq%20%27PM2.5%27%20and%20Thing/properties/authority%20eq%20%27%E8%A1%8C%E6%94%BF%E9%99%A2%E7%92%B0%E5%A2%83%E4%BF%9D%E8%AD%B7%E7%BD%B2%27%20and%20substringof(%27%E7%A9%BA%E6%B0%A3%E5%93%81%E8%B3%AA%E6%B8%AC%E7%AB%99%27,Thing/name)&$count=true'\n"
   ]
  },
  {
   "cell_type": "code",
   "execution_count": 3,
   "metadata": {},
   "outputs": [
    {
     "data": {
      "text/plain": [
       "0     {'description': '細懸浮微粒 PM2.5', '@iot.id': 11, ...\n",
       "1     {'description': '細懸浮微粒 PM2.5', '@iot.id': 29, ...\n",
       "2     {'description': '細懸浮微粒 PM2.5', '@iot.id': 47, ...\n",
       "3     {'description': '細懸浮微粒 PM2.5', '@iot.id': 65, ...\n",
       "4     {'description': '細懸浮微粒 PM2.5', '@iot.id': 83, ...\n",
       "                            ...                        \n",
       "72    {'description': '細懸浮微粒 PM2.5', '@iot.id': 1307...\n",
       "73    {'description': '細懸浮微粒 PM2.5', '@iot.id': 1325...\n",
       "74    {'description': '細懸浮微粒 PM2.5', '@iot.id': 1343...\n",
       "75    {'description': '細懸浮微粒 PM2.5', '@iot.id': 1361...\n",
       "76    {'description': '細懸浮微粒 PM2.5', '@iot.id': 1379...\n",
       "Name: value, Length: 77, dtype: object"
      ]
     },
     "execution_count": 3,
     "metadata": {},
     "output_type": "execute_result"
    }
   ],
   "source": [
    "datas=pd.read_json(url)['value']\n",
    "datas"
   ]
  },
  {
   "cell_type": "markdown",
   "metadata": {},
   "source": [
    "## 取得城市和站點"
   ]
  },
  {
   "cell_type": "code",
   "execution_count": 4,
   "metadata": {},
   "outputs": [
    {
     "data": {
      "text/plain": [
       "('基隆市', '基隆')"
      ]
     },
     "execution_count": 4,
     "metadata": {},
     "output_type": "execute_result"
    }
   ],
   "source": [
    "city,stationName=datas[0]['Thing']['properties']['city'], datas[0]['Thing']['properties']['stationName']\n",
    "city,stationName"
   ]
  },
  {
   "cell_type": "markdown",
   "metadata": {},
   "source": [
    "## 取得pm2.5和更新時間"
   ]
  },
  {
   "cell_type": "code",
   "execution_count": 5,
   "metadata": {},
   "outputs": [
    {
     "data": {
      "text/plain": [
       "(10, '2022-07-10T03:00:00.000Z')"
      ]
     },
     "execution_count": 5,
     "metadata": {},
     "output_type": "execute_result"
    }
   ],
   "source": [
    "result,resultTime=datas[0]['Observations'][0]['result'], datas[0]['Observations'][0]['resultTime']\n",
    "result,resultTime"
   ]
  },
  {
   "cell_type": "markdown",
   "metadata": {},
   "source": [
    "## 輸出所有站點資料"
   ]
  },
  {
   "cell_type": "code",
   "execution_count": 6,
   "metadata": {},
   "outputs": [
    {
     "data": {
      "text/plain": [
       "[['基隆市', '基隆', 10, Timestamp('2022-07-10 03:00:00+0000', tz='UTC')],\n",
       " ['新北市', '汐止', 11, Timestamp('2022-07-10 03:00:00+0000', tz='UTC')],\n",
       " ['新北市', '萬里', 19, Timestamp('2022-07-10 03:00:00+0000', tz='UTC')],\n",
       " ['新北市', '新店', 8, Timestamp('2022-07-10 03:00:00+0000', tz='UTC')],\n",
       " ['新北市', '土城', 2, Timestamp('2022-07-10 03:00:00+0000', tz='UTC')],\n",
       " ['新北市', '板橋', 6, Timestamp('2022-07-10 03:00:00+0000', tz='UTC')],\n",
       " ['新北市', '新莊', 3, Timestamp('2022-07-10 03:00:00+0000', tz='UTC')],\n",
       " ['新北市', '菜寮', 9, Timestamp('2022-07-10 03:00:00+0000', tz='UTC')],\n",
       " ['新北市', '林口', 8, Timestamp('2022-07-10 03:00:00+0000', tz='UTC')],\n",
       " ['新北市', '淡水', 7, Timestamp('2022-07-10 03:00:00+0000', tz='UTC')],\n",
       " ['臺北市', '士林', 10, Timestamp('2022-07-10 03:00:00+0000', tz='UTC')],\n",
       " ['臺北市', '中山', 9, Timestamp('2022-07-10 03:00:00+0000', tz='UTC')],\n",
       " ['臺北市', '萬華', 8, Timestamp('2022-07-10 03:00:00+0000', tz='UTC')],\n",
       " ['臺北市', '古亭', 9, Timestamp('2022-07-10 03:00:00+0000', tz='UTC')],\n",
       " ['臺北市', '松山', 10, Timestamp('2022-07-10 03:00:00+0000', tz='UTC')],\n",
       " ['臺北市', '大同', 13, Timestamp('2022-07-10 03:00:00+0000', tz='UTC')],\n",
       " ['桃園市', '桃園', 8, Timestamp('2022-07-10 03:00:00+0000', tz='UTC')],\n",
       " ['桃園市', '大園', 6, Timestamp('2022-07-10 03:00:00+0000', tz='UTC')],\n",
       " ['桃園市', '觀音', 6, Timestamp('2022-07-10 03:00:00+0000', tz='UTC')],\n",
       " ['桃園市', '平鎮', 6, Timestamp('2022-07-10 03:00:00+0000', tz='UTC')],\n",
       " ['桃園市', '龍潭', 2, Timestamp('2022-07-10 03:00:00+0000', tz='UTC')],\n",
       " ['新竹縣', '湖口', 8, Timestamp('2022-07-10 03:00:00+0000', tz='UTC')],\n",
       " ['新竹縣', '竹東', 2, Timestamp('2022-07-10 03:00:00+0000', tz='UTC')],\n",
       " ['新竹市', '新竹', 4, Timestamp('2022-07-10 03:00:00+0000', tz='UTC')],\n",
       " ['苗栗縣', '頭份', 5, Timestamp('2022-07-10 03:00:00+0000', tz='UTC')],\n",
       " ['苗栗縣', '苗栗', 5, Timestamp('2022-07-10 03:00:00+0000', tz='UTC')],\n",
       " ['苗栗縣', '三義', 5, Timestamp('2022-07-10 03:00:00+0000', tz='UTC')],\n",
       " ['臺中市', '豐原', 6, Timestamp('2022-07-10 03:00:00+0000', tz='UTC')],\n",
       " ['臺中市', '沙鹿', 8, Timestamp('2022-07-10 03:00:00+0000', tz='UTC')],\n",
       " ['臺中市', '大里', 4, Timestamp('2022-07-10 03:00:00+0000', tz='UTC')],\n",
       " ['臺中市', '忠明', 8, Timestamp('2022-07-10 03:00:00+0000', tz='UTC')],\n",
       " ['臺中市', '西屯', 3, Timestamp('2022-07-10 03:00:00+0000', tz='UTC')],\n",
       " ['彰化縣', '彰化', 3, Timestamp('2022-07-10 03:00:00+0000', tz='UTC')],\n",
       " ['彰化縣', '線西', 9, Timestamp('2022-07-10 03:00:00+0000', tz='UTC')],\n",
       " ['彰化縣', '二林', 9, Timestamp('2022-07-10 03:00:00+0000', tz='UTC')],\n",
       " ['南投縣', '南投', 9, Timestamp('2022-07-10 03:00:00+0000', tz='UTC')],\n",
       " ['雲林縣', '斗六', 8, Timestamp('2022-07-10 03:00:00+0000', tz='UTC')],\n",
       " ['雲林縣', '崙背', 9, Timestamp('2022-07-10 03:00:00+0000', tz='UTC')],\n",
       " ['嘉義縣', '新港', 14, Timestamp('2022-07-10 03:00:00+0000', tz='UTC')],\n",
       " ['嘉義縣', '朴子', 8, Timestamp('2022-07-10 03:00:00+0000', tz='UTC')],\n",
       " ['雲林縣', '臺西', 5, Timestamp('2022-07-10 03:00:00+0000', tz='UTC')],\n",
       " ['嘉義市', '嘉義', 14, Timestamp('2022-07-10 03:00:00+0000', tz='UTC')],\n",
       " ['臺南市', '新營', 9, Timestamp('2022-07-10 03:00:00+0000', tz='UTC')],\n",
       " ['臺南市', '善化', 6, Timestamp('2022-07-10 03:00:00+0000', tz='UTC')],\n",
       " ['臺南市', '安南', 10, Timestamp('2022-07-10 03:00:00+0000', tz='UTC')],\n",
       " ['臺南市', '臺南', 9, Timestamp('2022-07-10 03:00:00+0000', tz='UTC')],\n",
       " ['高雄市', '美濃', 6, Timestamp('2022-07-10 03:00:00+0000', tz='UTC')],\n",
       " ['高雄市', '橋頭', 6, Timestamp('2022-07-10 03:00:00+0000', tz='UTC')],\n",
       " ['高雄市', '仁武', 8, Timestamp('2022-07-10 03:00:00+0000', tz='UTC')],\n",
       " ['高雄市', '鳳山', 6, Timestamp('2022-07-10 03:00:00+0000', tz='UTC')],\n",
       " ['高雄市', '大寮', 5, Timestamp('2022-07-10 03:00:00+0000', tz='UTC')],\n",
       " ['高雄市', '林園', 0, Timestamp('2022-07-10 03:00:00+0000', tz='UTC')],\n",
       " ['高雄市', '楠梓', 1, Timestamp('2022-07-10 03:00:00+0000', tz='UTC')],\n",
       " ['高雄市', '左營', 10, Timestamp('2022-07-10 03:00:00+0000', tz='UTC')],\n",
       " ['高雄市', '前金', 1, Timestamp('2022-07-10 03:00:00+0000', tz='UTC')],\n",
       " ['高雄市', '前鎮', 3, Timestamp('2022-07-10 03:00:00+0000', tz='UTC')],\n",
       " ['高雄市', '小港', 6, Timestamp('2022-07-10 03:00:00+0000', tz='UTC')],\n",
       " ['屏東縣', '屏東', 3, Timestamp('2022-07-10 03:00:00+0000', tz='UTC')],\n",
       " ['屏東縣', '潮州', 4, Timestamp('2022-07-10 03:00:00+0000', tz='UTC')],\n",
       " ['屏東縣', '恆春', 0, Timestamp('2022-07-10 03:00:00+0000', tz='UTC')],\n",
       " ['臺東縣', '臺東', 1, Timestamp('2022-07-10 03:00:00+0000', tz='UTC')],\n",
       " ['花蓮縣', '花蓮', 2, Timestamp('2022-07-10 03:00:00+0000', tz='UTC')],\n",
       " ['臺北市', '陽明', 12, Timestamp('2022-07-10 03:00:00+0000', tz='UTC')],\n",
       " ['宜蘭縣', '宜蘭', 7, Timestamp('2022-07-10 03:00:00+0000', tz='UTC')],\n",
       " ['宜蘭縣', '冬山', 11, Timestamp('2022-07-10 03:00:00+0000', tz='UTC')],\n",
       " ['新北市', '三重', 11, Timestamp('2022-07-10 03:00:00+0000', tz='UTC')],\n",
       " ['桃園市', '中壢', 8, Timestamp('2022-07-10 03:00:00+0000', tz='UTC')],\n",
       " ['南投縣', '竹山', 7, Timestamp('2022-07-10 03:00:00+0000', tz='UTC')],\n",
       " ['新北市', '永和', 8, Timestamp('2022-07-10 03:00:00+0000', tz='UTC')],\n",
       " ['高雄市', '復興', 4, Timestamp('2022-07-10 03:00:00+0000', tz='UTC')],\n",
       " ['南投縣', '埔里', 9, Timestamp('2022-07-10 03:00:00+0000', tz='UTC')],\n",
       " ['新北市', '富貴角', 3, Timestamp('2022-07-10 03:00:00+0000', tz='UTC')],\n",
       " ['臺東縣', '關山', 0, Timestamp('2022-07-10 03:00:00+0000', tz='UTC')],\n",
       " ['金門縣', '金門', 6, Timestamp('2022-07-10 03:00:00+0000', tz='UTC')],\n",
       " ['連江縣', '馬祖', 17, Timestamp('2022-07-10 03:00:00+0000', tz='UTC')],\n",
       " ['澎湖縣', '馬公', 2, Timestamp('2022-07-10 03:00:00+0000', tz='UTC')],\n",
       " ['雲林縣', '麥寮', 0, Timestamp('2022-07-10 03:00:00+0000', tz='UTC')]]"
      ]
     },
     "execution_count": 6,
     "metadata": {},
     "output_type": "execute_result"
    }
   ],
   "source": [
    "values=[]\n",
    "for data in datas:\n",
    "    # print('縣市','站點','pm2.5','時間')\n",
    "    city, stationName=data['Thing']['properties']['city'],data['Thing']['properties']['stationName']\n",
    "\n",
    "    result, resultTime = data['Observations'][0]['result'], data['Observations'][0]['resultTime']\n",
    "    resultTime=pd.to_datetime(resultTime)\n",
    "\n",
    "    values.append([city,stationName,result,resultTime])\n",
    "values"
   ]
  },
  {
   "cell_type": "code",
   "execution_count": 7,
   "metadata": {},
   "outputs": [
    {
     "data": {
      "text/html": [
       "<div>\n",
       "<style scoped>\n",
       "    .dataframe tbody tr th:only-of-type {\n",
       "        vertical-align: middle;\n",
       "    }\n",
       "\n",
       "    .dataframe tbody tr th {\n",
       "        vertical-align: top;\n",
       "    }\n",
       "\n",
       "    .dataframe thead th {\n",
       "        text-align: right;\n",
       "    }\n",
       "</style>\n",
       "<table border=\"1\" class=\"dataframe\">\n",
       "  <thead>\n",
       "    <tr style=\"text-align: right;\">\n",
       "      <th></th>\n",
       "      <th>city</th>\n",
       "      <th>stationName</th>\n",
       "      <th>result</th>\n",
       "      <th>resultTime</th>\n",
       "    </tr>\n",
       "  </thead>\n",
       "  <tbody>\n",
       "    <tr>\n",
       "      <th>0</th>\n",
       "      <td>基隆市</td>\n",
       "      <td>基隆</td>\n",
       "      <td>10</td>\n",
       "      <td>2022-07-10 03:00:00+00:00</td>\n",
       "    </tr>\n",
       "    <tr>\n",
       "      <th>1</th>\n",
       "      <td>新北市</td>\n",
       "      <td>汐止</td>\n",
       "      <td>11</td>\n",
       "      <td>2022-07-10 03:00:00+00:00</td>\n",
       "    </tr>\n",
       "    <tr>\n",
       "      <th>2</th>\n",
       "      <td>新北市</td>\n",
       "      <td>萬里</td>\n",
       "      <td>19</td>\n",
       "      <td>2022-07-10 03:00:00+00:00</td>\n",
       "    </tr>\n",
       "    <tr>\n",
       "      <th>3</th>\n",
       "      <td>新北市</td>\n",
       "      <td>新店</td>\n",
       "      <td>8</td>\n",
       "      <td>2022-07-10 03:00:00+00:00</td>\n",
       "    </tr>\n",
       "    <tr>\n",
       "      <th>4</th>\n",
       "      <td>新北市</td>\n",
       "      <td>土城</td>\n",
       "      <td>2</td>\n",
       "      <td>2022-07-10 03:00:00+00:00</td>\n",
       "    </tr>\n",
       "    <tr>\n",
       "      <th>...</th>\n",
       "      <td>...</td>\n",
       "      <td>...</td>\n",
       "      <td>...</td>\n",
       "      <td>...</td>\n",
       "    </tr>\n",
       "    <tr>\n",
       "      <th>72</th>\n",
       "      <td>臺東縣</td>\n",
       "      <td>關山</td>\n",
       "      <td>0</td>\n",
       "      <td>2022-07-10 03:00:00+00:00</td>\n",
       "    </tr>\n",
       "    <tr>\n",
       "      <th>73</th>\n",
       "      <td>金門縣</td>\n",
       "      <td>金門</td>\n",
       "      <td>6</td>\n",
       "      <td>2022-07-10 03:00:00+00:00</td>\n",
       "    </tr>\n",
       "    <tr>\n",
       "      <th>74</th>\n",
       "      <td>連江縣</td>\n",
       "      <td>馬祖</td>\n",
       "      <td>17</td>\n",
       "      <td>2022-07-10 03:00:00+00:00</td>\n",
       "    </tr>\n",
       "    <tr>\n",
       "      <th>75</th>\n",
       "      <td>澎湖縣</td>\n",
       "      <td>馬公</td>\n",
       "      <td>2</td>\n",
       "      <td>2022-07-10 03:00:00+00:00</td>\n",
       "    </tr>\n",
       "    <tr>\n",
       "      <th>76</th>\n",
       "      <td>雲林縣</td>\n",
       "      <td>麥寮</td>\n",
       "      <td>0</td>\n",
       "      <td>2022-07-10 03:00:00+00:00</td>\n",
       "    </tr>\n",
       "  </tbody>\n",
       "</table>\n",
       "<p>77 rows × 4 columns</p>\n",
       "</div>"
      ],
      "text/plain": [
       "   city stationName  result                resultTime\n",
       "0   基隆市          基隆      10 2022-07-10 03:00:00+00:00\n",
       "1   新北市          汐止      11 2022-07-10 03:00:00+00:00\n",
       "2   新北市          萬里      19 2022-07-10 03:00:00+00:00\n",
       "3   新北市          新店       8 2022-07-10 03:00:00+00:00\n",
       "4   新北市          土城       2 2022-07-10 03:00:00+00:00\n",
       "..  ...         ...     ...                       ...\n",
       "72  臺東縣          關山       0 2022-07-10 03:00:00+00:00\n",
       "73  金門縣          金門       6 2022-07-10 03:00:00+00:00\n",
       "74  連江縣          馬祖      17 2022-07-10 03:00:00+00:00\n",
       "75  澎湖縣          馬公       2 2022-07-10 03:00:00+00:00\n",
       "76  雲林縣          麥寮       0 2022-07-10 03:00:00+00:00\n",
       "\n",
       "[77 rows x 4 columns]"
      ]
     },
     "execution_count": 7,
     "metadata": {},
     "output_type": "execute_result"
    }
   ],
   "source": [
    "df = pd.DataFrame(values, columns=['city', 'stationName', 'result', 'resultTime'])\n",
    "df"
   ]
  },
  {
   "cell_type": "code",
   "execution_count": 8,
   "metadata": {},
   "outputs": [
    {
     "data": {
      "text/html": [
       "<div>\n",
       "<style scoped>\n",
       "    .dataframe tbody tr th:only-of-type {\n",
       "        vertical-align: middle;\n",
       "    }\n",
       "\n",
       "    .dataframe tbody tr th {\n",
       "        vertical-align: top;\n",
       "    }\n",
       "\n",
       "    .dataframe thead th {\n",
       "        text-align: right;\n",
       "    }\n",
       "</style>\n",
       "<table border=\"1\" class=\"dataframe\">\n",
       "  <thead>\n",
       "    <tr style=\"text-align: right;\">\n",
       "      <th></th>\n",
       "      <th>city</th>\n",
       "      <th>stationName</th>\n",
       "      <th>result</th>\n",
       "      <th>resultTime</th>\n",
       "    </tr>\n",
       "  </thead>\n",
       "  <tbody>\n",
       "    <tr>\n",
       "      <th>2</th>\n",
       "      <td>新北市</td>\n",
       "      <td>萬里</td>\n",
       "      <td>19</td>\n",
       "      <td>2022-07-10 03:00:00+00:00</td>\n",
       "    </tr>\n",
       "    <tr>\n",
       "      <th>74</th>\n",
       "      <td>連江縣</td>\n",
       "      <td>馬祖</td>\n",
       "      <td>17</td>\n",
       "      <td>2022-07-10 03:00:00+00:00</td>\n",
       "    </tr>\n",
       "    <tr>\n",
       "      <th>38</th>\n",
       "      <td>嘉義縣</td>\n",
       "      <td>新港</td>\n",
       "      <td>14</td>\n",
       "      <td>2022-07-10 03:00:00+00:00</td>\n",
       "    </tr>\n",
       "    <tr>\n",
       "      <th>41</th>\n",
       "      <td>嘉義市</td>\n",
       "      <td>嘉義</td>\n",
       "      <td>14</td>\n",
       "      <td>2022-07-10 03:00:00+00:00</td>\n",
       "    </tr>\n",
       "    <tr>\n",
       "      <th>15</th>\n",
       "      <td>臺北市</td>\n",
       "      <td>大同</td>\n",
       "      <td>13</td>\n",
       "      <td>2022-07-10 03:00:00+00:00</td>\n",
       "    </tr>\n",
       "    <tr>\n",
       "      <th>...</th>\n",
       "      <td>...</td>\n",
       "      <td>...</td>\n",
       "      <td>...</td>\n",
       "      <td>...</td>\n",
       "    </tr>\n",
       "    <tr>\n",
       "      <th>52</th>\n",
       "      <td>高雄市</td>\n",
       "      <td>楠梓</td>\n",
       "      <td>1</td>\n",
       "      <td>2022-07-10 03:00:00+00:00</td>\n",
       "    </tr>\n",
       "    <tr>\n",
       "      <th>51</th>\n",
       "      <td>高雄市</td>\n",
       "      <td>林園</td>\n",
       "      <td>0</td>\n",
       "      <td>2022-07-10 03:00:00+00:00</td>\n",
       "    </tr>\n",
       "    <tr>\n",
       "      <th>72</th>\n",
       "      <td>臺東縣</td>\n",
       "      <td>關山</td>\n",
       "      <td>0</td>\n",
       "      <td>2022-07-10 03:00:00+00:00</td>\n",
       "    </tr>\n",
       "    <tr>\n",
       "      <th>59</th>\n",
       "      <td>屏東縣</td>\n",
       "      <td>恆春</td>\n",
       "      <td>0</td>\n",
       "      <td>2022-07-10 03:00:00+00:00</td>\n",
       "    </tr>\n",
       "    <tr>\n",
       "      <th>76</th>\n",
       "      <td>雲林縣</td>\n",
       "      <td>麥寮</td>\n",
       "      <td>0</td>\n",
       "      <td>2022-07-10 03:00:00+00:00</td>\n",
       "    </tr>\n",
       "  </tbody>\n",
       "</table>\n",
       "<p>77 rows × 4 columns</p>\n",
       "</div>"
      ],
      "text/plain": [
       "   city stationName  result                resultTime\n",
       "2   新北市          萬里      19 2022-07-10 03:00:00+00:00\n",
       "74  連江縣          馬祖      17 2022-07-10 03:00:00+00:00\n",
       "38  嘉義縣          新港      14 2022-07-10 03:00:00+00:00\n",
       "41  嘉義市          嘉義      14 2022-07-10 03:00:00+00:00\n",
       "15  臺北市          大同      13 2022-07-10 03:00:00+00:00\n",
       "..  ...         ...     ...                       ...\n",
       "52  高雄市          楠梓       1 2022-07-10 03:00:00+00:00\n",
       "51  高雄市          林園       0 2022-07-10 03:00:00+00:00\n",
       "72  臺東縣          關山       0 2022-07-10 03:00:00+00:00\n",
       "59  屏東縣          恆春       0 2022-07-10 03:00:00+00:00\n",
       "76  雲林縣          麥寮       0 2022-07-10 03:00:00+00:00\n",
       "\n",
       "[77 rows x 4 columns]"
      ]
     },
     "execution_count": 8,
     "metadata": {},
     "output_type": "execute_result"
    }
   ],
   "source": [
    "df.sort_values(by='result',ascending=False)"
   ]
  },
  {
   "cell_type": "code",
   "execution_count": 9,
   "metadata": {},
   "outputs": [
    {
     "data": {
      "text/plain": [
       "0    2022-07-10 03:00:00+00:00\n",
       "1    2022-07-10 03:00:00+00:00\n",
       "2    2022-07-10 03:00:00+00:00\n",
       "3    2022-07-10 03:00:00+00:00\n",
       "4    2022-07-10 03:00:00+00:00\n",
       "                ...           \n",
       "72   2022-07-10 03:00:00+00:00\n",
       "73   2022-07-10 03:00:00+00:00\n",
       "74   2022-07-10 03:00:00+00:00\n",
       "75   2022-07-10 03:00:00+00:00\n",
       "76   2022-07-10 03:00:00+00:00\n",
       "Name: resultTime, Length: 77, dtype: datetime64[ns, UTC]"
      ]
     },
     "execution_count": 9,
     "metadata": {},
     "output_type": "execute_result"
    }
   ],
   "source": [
    "df['resultTime'].apply(pd.to_datetime)"
   ]
  },
  {
   "cell_type": "markdown",
   "metadata": {},
   "source": [
    "## 輸出六都平均值\n"
   ]
  },
  {
   "cell_type": "code",
   "execution_count": 10,
   "metadata": {},
   "outputs": [
    {
     "data": {
      "text/html": [
       "<div>\n",
       "<style scoped>\n",
       "    .dataframe tbody tr th:only-of-type {\n",
       "        vertical-align: middle;\n",
       "    }\n",
       "\n",
       "    .dataframe tbody tr th {\n",
       "        vertical-align: top;\n",
       "    }\n",
       "\n",
       "    .dataframe thead th {\n",
       "        text-align: right;\n",
       "    }\n",
       "</style>\n",
       "<table border=\"1\" class=\"dataframe\">\n",
       "  <thead>\n",
       "    <tr style=\"text-align: right;\">\n",
       "      <th></th>\n",
       "      <th>city</th>\n",
       "      <th>stationName</th>\n",
       "      <th>result</th>\n",
       "      <th>resultTime</th>\n",
       "    </tr>\n",
       "  </thead>\n",
       "  <tbody>\n",
       "    <tr>\n",
       "      <th>0</th>\n",
       "      <td>基隆市</td>\n",
       "      <td>基隆</td>\n",
       "      <td>10</td>\n",
       "      <td>2022-07-10 03:00:00+00:00</td>\n",
       "    </tr>\n",
       "    <tr>\n",
       "      <th>1</th>\n",
       "      <td>新北市</td>\n",
       "      <td>汐止</td>\n",
       "      <td>11</td>\n",
       "      <td>2022-07-10 03:00:00+00:00</td>\n",
       "    </tr>\n",
       "    <tr>\n",
       "      <th>2</th>\n",
       "      <td>新北市</td>\n",
       "      <td>萬里</td>\n",
       "      <td>19</td>\n",
       "      <td>2022-07-10 03:00:00+00:00</td>\n",
       "    </tr>\n",
       "    <tr>\n",
       "      <th>3</th>\n",
       "      <td>新北市</td>\n",
       "      <td>新店</td>\n",
       "      <td>8</td>\n",
       "      <td>2022-07-10 03:00:00+00:00</td>\n",
       "    </tr>\n",
       "    <tr>\n",
       "      <th>4</th>\n",
       "      <td>新北市</td>\n",
       "      <td>土城</td>\n",
       "      <td>2</td>\n",
       "      <td>2022-07-10 03:00:00+00:00</td>\n",
       "    </tr>\n",
       "    <tr>\n",
       "      <th>...</th>\n",
       "      <td>...</td>\n",
       "      <td>...</td>\n",
       "      <td>...</td>\n",
       "      <td>...</td>\n",
       "    </tr>\n",
       "    <tr>\n",
       "      <th>72</th>\n",
       "      <td>臺東縣</td>\n",
       "      <td>關山</td>\n",
       "      <td>0</td>\n",
       "      <td>2022-07-10 03:00:00+00:00</td>\n",
       "    </tr>\n",
       "    <tr>\n",
       "      <th>73</th>\n",
       "      <td>金門縣</td>\n",
       "      <td>金門</td>\n",
       "      <td>6</td>\n",
       "      <td>2022-07-10 03:00:00+00:00</td>\n",
       "    </tr>\n",
       "    <tr>\n",
       "      <th>74</th>\n",
       "      <td>連江縣</td>\n",
       "      <td>馬祖</td>\n",
       "      <td>17</td>\n",
       "      <td>2022-07-10 03:00:00+00:00</td>\n",
       "    </tr>\n",
       "    <tr>\n",
       "      <th>75</th>\n",
       "      <td>澎湖縣</td>\n",
       "      <td>馬公</td>\n",
       "      <td>2</td>\n",
       "      <td>2022-07-10 03:00:00+00:00</td>\n",
       "    </tr>\n",
       "    <tr>\n",
       "      <th>76</th>\n",
       "      <td>雲林縣</td>\n",
       "      <td>麥寮</td>\n",
       "      <td>0</td>\n",
       "      <td>2022-07-10 03:00:00+00:00</td>\n",
       "    </tr>\n",
       "  </tbody>\n",
       "</table>\n",
       "<p>77 rows × 4 columns</p>\n",
       "</div>"
      ],
      "text/plain": [
       "   city stationName  result                resultTime\n",
       "0   基隆市          基隆      10 2022-07-10 03:00:00+00:00\n",
       "1   新北市          汐止      11 2022-07-10 03:00:00+00:00\n",
       "2   新北市          萬里      19 2022-07-10 03:00:00+00:00\n",
       "3   新北市          新店       8 2022-07-10 03:00:00+00:00\n",
       "4   新北市          土城       2 2022-07-10 03:00:00+00:00\n",
       "..  ...         ...     ...                       ...\n",
       "72  臺東縣          關山       0 2022-07-10 03:00:00+00:00\n",
       "73  金門縣          金門       6 2022-07-10 03:00:00+00:00\n",
       "74  連江縣          馬祖      17 2022-07-10 03:00:00+00:00\n",
       "75  澎湖縣          馬公       2 2022-07-10 03:00:00+00:00\n",
       "76  雲林縣          麥寮       0 2022-07-10 03:00:00+00:00\n",
       "\n",
       "[77 rows x 4 columns]"
      ]
     },
     "execution_count": 10,
     "metadata": {},
     "output_type": "execute_result"
    }
   ],
   "source": [
    "df"
   ]
  },
  {
   "cell_type": "code",
   "execution_count": 11,
   "metadata": {},
   "outputs": [
    {
     "data": {
      "text/plain": [
       "{'南投縣',\n",
       " '嘉義市',\n",
       " '嘉義縣',\n",
       " '基隆市',\n",
       " '宜蘭縣',\n",
       " '屏東縣',\n",
       " '彰化縣',\n",
       " '新北市',\n",
       " '新竹市',\n",
       " '新竹縣',\n",
       " '桃園市',\n",
       " '澎湖縣',\n",
       " '臺中市',\n",
       " '臺北市',\n",
       " '臺南市',\n",
       " '臺東縣',\n",
       " '花蓮縣',\n",
       " '苗栗縣',\n",
       " '連江縣',\n",
       " '金門縣',\n",
       " '雲林縣',\n",
       " '高雄市'}"
      ]
     },
     "execution_count": 11,
     "metadata": {},
     "output_type": "execute_result"
    }
   ],
   "source": [
    "set(df['city'])\n"
   ]
  },
  {
   "cell_type": "code",
   "execution_count": 12,
   "metadata": {},
   "outputs": [
    {
     "data": {
      "text/plain": [
       "['臺北市', '新北市', '桃園市', '臺中市', '臺南市', '高雄市']"
      ]
     },
     "execution_count": 12,
     "metadata": {},
     "output_type": "execute_result"
    }
   ],
   "source": [
    "six_citys = ['臺北市', '新北市', '桃園市', '臺中市', '臺南市', '高雄市']\n",
    "six_citys\n"
   ]
  },
  {
   "cell_type": "code",
   "execution_count": 13,
   "metadata": {},
   "outputs": [
    {
     "data": {
      "text/plain": [
       "4.67"
      ]
     },
     "execution_count": 13,
     "metadata": {},
     "output_type": "execute_result"
    }
   ],
   "source": [
    "round(df.groupby('city').get_group(six_citys[-1])['result'].mean(),2)"
   ]
  },
  {
   "cell_type": "code",
   "execution_count": 14,
   "metadata": {},
   "outputs": [
    {
     "name": "stdout",
     "output_type": "stream",
     "text": [
      "臺北市 10.14\n",
      "新北市 7.92\n",
      "桃園市 6.0\n",
      "臺中市 5.8\n",
      "臺南市 8.5\n",
      "高雄市 4.67\n"
     ]
    }
   ],
   "source": [
    "for city in six_citys:\n",
    "    print(city,round(df.groupby('city').get_group(city)['result'].mean(),2))"
   ]
  },
  {
   "cell_type": "markdown",
   "metadata": {},
   "source": [
    "## 全台不重複縣市"
   ]
  },
  {
   "cell_type": "code",
   "execution_count": 15,
   "metadata": {},
   "outputs": [
    {
     "data": {
      "text/plain": [
       "['新竹市',\n",
       " '高雄市',\n",
       " '苗栗縣',\n",
       " '臺東縣',\n",
       " '嘉義市',\n",
       " '連江縣',\n",
       " '屏東縣',\n",
       " '臺南市',\n",
       " '臺中市',\n",
       " '金門縣',\n",
       " '南投縣',\n",
       " '澎湖縣',\n",
       " '基隆市',\n",
       " '彰化縣',\n",
       " '花蓮縣',\n",
       " '臺北市',\n",
       " '新北市',\n",
       " '新竹縣',\n",
       " '嘉義縣',\n",
       " '雲林縣',\n",
       " '桃園市',\n",
       " '宜蘭縣']"
      ]
     },
     "execution_count": 15,
     "metadata": {},
     "output_type": "execute_result"
    }
   ],
   "source": [
    "list(set(df['city']))\n"
   ]
  },
  {
   "cell_type": "markdown",
   "metadata": {},
   "source": [
    "## 取得單一縣市所有站點PM2.5值"
   ]
  },
  {
   "cell_type": "code",
   "execution_count": 16,
   "metadata": {},
   "outputs": [
    {
     "data": {
      "text/plain": [
       "[['汐止', 11],\n",
       " ['萬里', 19],\n",
       " ['新店', 8],\n",
       " ['土城', 2],\n",
       " ['板橋', 6],\n",
       " ['新莊', 3],\n",
       " ['菜寮', 9],\n",
       " ['林口', 8],\n",
       " ['淡水', 7],\n",
       " ['三重', 11],\n",
       " ['永和', 8],\n",
       " ['富貴角', 3]]"
      ]
     },
     "execution_count": 16,
     "metadata": {},
     "output_type": "execute_result"
    }
   ],
   "source": [
    "datas = df.groupby('city').get_group(\n",
    "    '新北市')[['stationName', 'result']].values.tolist()\n",
    "datas\n"
   ]
  },
  {
   "cell_type": "code",
   "execution_count": 17,
   "metadata": {},
   "outputs": [
    {
     "data": {
      "text/plain": [
       "(('汐止', '萬里', '新店', '土城', '板橋', '新莊', '菜寮', '林口', '淡水', '三重', '永和', '富貴角'),\n",
       " (11, 19, 8, 2, 6, 3, 9, 8, 7, 11, 8, 3))"
      ]
     },
     "execution_count": 17,
     "metadata": {},
     "output_type": "execute_result"
    }
   ],
   "source": [
    "stationName,result=list(zip(*datas))\n",
    "stationName,result"
   ]
  },
  {
   "cell_type": "markdown",
   "metadata": {},
   "source": []
  }
 ],
 "metadata": {
  "interpreter": {
   "hash": "e42634819b8c191a5d07eaf23810ff32516dd8d3875f28ec3e488928fbd3c187"
  },
  "kernelspec": {
   "display_name": "Python 3.8.8 ('base')",
   "language": "python",
   "name": "python3"
  },
  "language_info": {
   "codemirror_mode": {
    "name": "ipython",
    "version": 3
   },
   "file_extension": ".py",
   "mimetype": "text/x-python",
   "name": "python",
   "nbconvert_exporter": "python",
   "pygments_lexer": "ipython3",
   "version": "3.8.8"
  },
  "orig_nbformat": 4
 },
 "nbformat": 4,
 "nbformat_minor": 2
}
